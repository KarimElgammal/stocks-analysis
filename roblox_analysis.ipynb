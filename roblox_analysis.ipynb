{
 "cells": [
  {
   "cell_type": "code",
   "execution_count": 1,
   "metadata": {},
   "outputs": [],
   "source": [
    "import yfinance as yf\n",
    "import pandas as pd\n",
    "import numpy as np\n",
    "from datetime import datetime, timedelta\n",
    "import plotly.graph_objects as go\n",
    "from plotly.subplots import make_subplots"
   ]
  },
  {
   "cell_type": "code",
   "execution_count": 2,
   "metadata": {},
   "outputs": [],
   "source": [
    "def analyze_stock(ticker_symbol, period='2y'):\n",
    "    # Download stock data\n",
    "    stock = yf.Ticker(ticker_symbol)\n",
    "    hist = stock.history(period=period)\n",
    "    \n",
    "    # Calculate key metrics\n",
    "    hist['SMA_50'] = hist['Close'].rolling(window=50).mean()\n",
    "    hist['SMA_200'] = hist['Close'].rolling(window=200).mean()\n",
    "    hist['Daily_Return'] = hist['Close'].pct_change()\n",
    "    hist['Volatility'] = hist['Daily_Return'].rolling(window=20).std() * np.sqrt(252) * 100\n",
    "    \n",
    "    # Create the visualization\n",
    "    fig = make_subplots(rows=3, cols=1, \n",
    "                        subplot_titles=('Price and Moving Averages', 'Volume', 'Volatility'),\n",
    "                        vertical_spacing=0.1,\n",
    "                        row_heights=[0.5, 0.25, 0.25])\n",
    "\n",
    "    # Price and Moving Averages\n",
    "    fig.add_trace(\n",
    "        go.Scatter(x=hist.index, y=hist['Close'], name='Close Price', line=dict(color='blue')),\n",
    "        row=1, col=1\n",
    "    )\n",
    "    fig.add_trace(\n",
    "        go.Scatter(x=hist.index, y=hist['SMA_50'], name='50-day SMA', line=dict(color='orange')),\n",
    "        row=1, col=1\n",
    "    )\n",
    "    fig.add_trace(\n",
    "        go.Scatter(x=hist.index, y=hist['SMA_200'], name='200-day SMA', line=dict(color='red')),\n",
    "        row=1, col=1\n",
    "    )\n",
    "\n",
    "    # Volume\n",
    "    fig.add_trace(\n",
    "        go.Bar(x=hist.index, y=hist['Volume'], name='Volume', marker_color='gray'),\n",
    "        row=2, col=1\n",
    "    )\n",
    "\n",
    "    # Volatility\n",
    "    fig.add_trace(\n",
    "        go.Scatter(x=hist.index, y=hist['Volatility'], name='20-day Volatility', \n",
    "                  line=dict(color='purple')),\n",
    "        row=3, col=1\n",
    "    )\n",
    "\n",
    "    fig.update_layout(\n",
    "        title=f'{ticker_symbol} Stock Analysis',\n",
    "        height=1000,\n",
    "        showlegend=True\n",
    "    )\n",
    "\n",
    "    return fig, hist, stock.info"
   ]
  },
  {
   "cell_type": "code",
   "execution_count": null,
   "metadata": {},
   "outputs": [],
   "source": [
    "fig, hist_data, company_info = analyze_stock('RBLX')\n",
    "\n",
    "fig.show()"
   ]
  },
  {
   "cell_type": "code",
   "execution_count": null,
   "metadata": {},
   "outputs": [],
   "source": [
    "# Calculate key statistics\n",
    "current_price = hist_data['Close'][-1]\n",
    "peak_price = hist_data['Close'].max()\n",
    "drawdown = ((peak_price - current_price) / peak_price) * 100\n",
    "volatility = hist_data['Daily_Return'].std() * np.sqrt(252) * 100\n",
    "total_return = ((hist_data['Close'][-1] / hist_data['Close'][0]) - 1) * 100\n",
    "\n",
    "stats = pd.DataFrame({\n",
    "    'Metric': ['Current Price', 'Peak Price', 'Drawdown from Peak', 'Annual Volatility', 'Total Return'],\n",
    "    'Value': [\n",
    "        f\"${current_price:.2f}\",\n",
    "        f\"${peak_price:.2f}\",\n",
    "        f\"{drawdown:.1f}%\",\n",
    "        f\"{volatility:.1f}%\",\n",
    "        f\"{total_return:.1f}%\"\n",
    "    ]\n",
    "})\n",
    "\n",
    "display(stats)"
   ]
  },
  {
   "cell_type": "code",
   "execution_count": null,
   "metadata": {},
   "outputs": [],
   "source": [
    "company_metrics = pd.DataFrame({\n",
    "    'Metric': ['Market Cap', 'Forward P/E', 'Price to Book', 'Enterprise Value', 'Revenue Growth'],\n",
    "    'Value': [\n",
    "        f\"${company_info.get('marketCap', 'N/A'):,.0f}\" if company_info.get('marketCap') else 'N/A',\n",
    "        f\"{company_info.get('forwardPE', 'N/A'):.2f}\" if company_info.get('forwardPE') else 'N/A',\n",
    "        f\"{company_info.get('priceToBook', 'N/A'):.2f}\" if company_info.get('priceToBook') else 'N/A',\n",
    "        f\"${company_info.get('enterpriseValue', 'N/A'):,.0f}\" if company_info.get('enterpriseValue') else 'N/A',\n",
    "        f\"{company_info.get('revenueGrowth', 'N/A'):.1%}\" if company_info.get('revenueGrowth') else 'N/A'\n",
    "    ]\n",
    "})\n",
    "\n",
    "display(company_metrics)"
   ]
  },
  {
   "cell_type": "code",
   "execution_count": null,
   "metadata": {},
   "outputs": [],
   "source": []
  }
 ],
 "metadata": {
  "kernelspec": {
   "display_name": "stocks",
   "language": "python",
   "name": "python3"
  },
  "language_info": {
   "codemirror_mode": {
    "name": "ipython",
    "version": 3
   },
   "file_extension": ".py",
   "mimetype": "text/x-python",
   "name": "python",
   "nbconvert_exporter": "python",
   "pygments_lexer": "ipython3",
   "version": "3.12.7"
  }
 },
 "nbformat": 4,
 "nbformat_minor": 2
}
